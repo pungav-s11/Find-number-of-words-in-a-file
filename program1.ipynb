{
 "cells": [
  {
   "cell_type": "code",
   "execution_count": 1,
   "id": "c7c68a01-a60d-42c4-85d7-dda7df912686",
   "metadata": {},
   "outputs": [],
   "source": [
    "# total n most frequent words across documents"
   ]
  },
  {
   "cell_type": "code",
   "execution_count": 1,
   "id": "8339c8fe-ab9b-4318-8766-820635556c5c",
   "metadata": {},
   "outputs": [
    {
     "name": "stdin",
     "output_type": "stream",
     "text": [
      "Enter the path to your text file:  F:\\sem5\\BIG DATA\\docs.txt\n"
     ]
    },
    {
     "name": "stdout",
     "output_type": "stream",
     "text": [
      "Total number of words: 1044\n",
      "Most frequent word: 'the' with frequency 60\n"
     ]
    }
   ],
   "source": [
    "from collections import defaultdict\n",
    "\n",
    "# Mapper function\n",
    "def mapper(line):\n",
    "    # Split the line into words\n",
    "    words = line.split()\n",
    "    \n",
    "    # Emit each word with a count of 1\n",
    "    for word in words:\n",
    "        yield word.lower(), 1  # Convert to lowercase for case-insensitive counting\n",
    "\n",
    "# Reducer function\n",
    "def reducer(mapped_data):\n",
    "    word_counts = defaultdict(int)\n",
    "    \n",
    "    # Aggregate the counts for each word\n",
    "    for word, count in mapped_data:\n",
    "        word_counts[word] += count\n",
    "    \n",
    "    # Calculate total number of words\n",
    "    total_words = sum(word_counts.values())\n",
    "    \n",
    "    # Find the most frequent word\n",
    "    most_frequent_word = max(word_counts.items(), key=lambda x: x[1])\n",
    "    \n",
    "    return total_words, most_frequent_word\n",
    "\n",
    "# Function to read the file and simulate the MapReduce process\n",
    "def word_count_map_reduce(file_path):\n",
    "    mapped_data = []\n",
    "    \n",
    "    # Read the text file line by line and apply the mapper\n",
    "    with open(file_path, 'r') as file:\n",
    "        for line in file:\n",
    "            mapped_data.extend(mapper(line))\n",
    "    \n",
    "    # Apply the reducer to aggregate the results\n",
    "    total_words, most_frequent_word = reducer(mapped_data)\n",
    "    \n",
    "    # Output the results\n",
    "    print(f\"Total number of words: {total_words}\")\n",
    "    print(f\"Most frequent word: '{most_frequent_word[0]}' with frequency {most_frequent_word[1]}\")\n",
    "\n",
    "# Input: Path to your text file\n",
    "file_path = input(\"Enter the path to your text file: \")\n",
    "\n",
    "# Run the MapReduce process\n",
    "word_count_map_reduce(file_path)\n"
   ]
  },
  {
   "cell_type": "code",
   "execution_count": null,
   "id": "5621d7e0-db52-48a0-8b9e-9d37118298eb",
   "metadata": {},
   "outputs": [],
   "source": []
  }
 ],
 "metadata": {
  "kernelspec": {
   "display_name": "Python 3 (ipykernel)",
   "language": "python",
   "name": "python3"
  },
  "language_info": {
   "codemirror_mode": {
    "name": "ipython",
    "version": 3
   },
   "file_extension": ".py",
   "mimetype": "text/x-python",
   "name": "python",
   "nbconvert_exporter": "python",
   "pygments_lexer": "ipython3",
   "version": "3.12.2"
  }
 },
 "nbformat": 4,
 "nbformat_minor": 5
}
